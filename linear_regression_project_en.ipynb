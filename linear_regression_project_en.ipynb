{
 "cells": [
  {
   "cell_type": "markdown",
   "metadata": {},
   "source": [
    "# 1 Matrix operations\n",
    "\n",
    "## 1.1 Create a 4*4 identity matrix"
   ]
  },
  {
   "cell_type": "code",
   "execution_count": 1,
   "metadata": {
    "collapsed": true
   },
   "outputs": [],
   "source": [
    "A = [[1,2,3], \n",
    "     [2,3,3], \n",
    "     [1,2,5]]\n",
    "\n",
    "B = [[1,2,3,5], \n",
    "     [2,3,3,5], \n",
    "     [1,2,5,1]]\n",
    "\n",
    "# create a 4*4 identity matrix \n",
    "I = [[1, 0, 0, 0],\n",
    "     [0, 1, 0, 0],\n",
    "     [0, 0, 1, 0],\n",
    "     [0, 0, 0, 1]]"
   ]
  },
  {
   "cell_type": "markdown",
   "metadata": {},
   "source": [
    "## 1.2 get the width and height of a matrix. "
   ]
  },
  {
   "cell_type": "code",
   "execution_count": 2,
   "metadata": {
    "collapsed": true
   },
   "outputs": [],
   "source": [
    "# Get the height and weight of a matrix.\n",
    "def shape(M):\n",
    "    if M == None or not M:\n",
    "       return 0,0 \n",
    "    return len(M), len(M[0])"
   ]
  },
  {
   "cell_type": "code",
   "execution_count": 3,
   "metadata": {},
   "outputs": [
    {
     "name": "stderr",
     "output_type": "stream",
     "text": [
      ".\n",
      "----------------------------------------------------------------------\n",
      "Ran 1 test in 0.003s\n",
      "\n",
      "OK\n"
     ]
    }
   ],
   "source": [
    "# run following code to test your shape function\n",
    "%run -i -e test.py LinearRegressionTestCase.test_shape"
   ]
  },
  {
   "cell_type": "markdown",
   "metadata": {},
   "source": [
    "## 1.3 round all elements in M to certain decimal points"
   ]
  },
  {
   "cell_type": "code",
   "execution_count": 4,
   "metadata": {
    "collapsed": true
   },
   "outputs": [],
   "source": [
    "# round all elements in M to decPts\n",
    "def matxRound(M, decPts=4):\n",
    "    x,y = shape(M)\n",
    "    for i in range(x):\n",
    "        for j in range(y):\n",
    "            M[i][j] = round(M[i][j], decPts)"
   ]
  },
  {
   "cell_type": "code",
   "execution_count": 5,
   "metadata": {},
   "outputs": [
    {
     "name": "stderr",
     "output_type": "stream",
     "text": [
      ".\n",
      "----------------------------------------------------------------------\n",
      "Ran 1 test in 0.052s\n",
      "\n",
      "OK\n"
     ]
    }
   ],
   "source": [
    "# run following code to test your matxRound function\n",
    "%run -i -e test.py LinearRegressionTestCase.test_matxRound"
   ]
  },
  {
   "cell_type": "markdown",
   "metadata": {},
   "source": [
    "## 1.4 compute transpose of M"
   ]
  },
  {
   "cell_type": "code",
   "execution_count": 6,
   "metadata": {
    "collapsed": true
   },
   "outputs": [],
   "source": [
    "#compute transpose of M\n",
    "def transpose(M):\n",
    "    x,y = shape(M)\n",
    "    N = []\n",
    "    for i in range(y):\n",
    "        N.append([0]*x)\n",
    "        for j in range(x):\n",
    "            N[i][j] = M[j][i]\n",
    "    return N"
   ]
  },
  {
   "cell_type": "code",
   "execution_count": 7,
   "metadata": {},
   "outputs": [
    {
     "data": {
      "text/plain": [
       "[[1, 2, 1], [2, 3, 2], [3, 3, 5], [5, 5, 1]]"
      ]
     },
     "execution_count": 7,
     "metadata": {},
     "output_type": "execute_result"
    }
   ],
   "source": [
    "transpose(B)"
   ]
  },
  {
   "cell_type": "code",
   "execution_count": 8,
   "metadata": {},
   "outputs": [
    {
     "name": "stderr",
     "output_type": "stream",
     "text": [
      ".\n",
      "----------------------------------------------------------------------\n",
      "Ran 1 test in 0.020s\n",
      "\n",
      "OK\n"
     ]
    }
   ],
   "source": [
    "# run following code to test your transpose function\n",
    "%run -i -e test.py LinearRegressionTestCase.test_transpose"
   ]
  },
  {
   "cell_type": "markdown",
   "metadata": {},
   "source": [
    "## 1.5 compute AB. return None if the dimensions don't match"
   ]
  },
  {
   "cell_type": "code",
   "execution_count": 9,
   "metadata": {},
   "outputs": [],
   "source": [
    "#compute matrix multiplication AB, return None if the dimensions don't match\n",
    "def matxMultiply(A, B):\n",
    "    xa,ya = shape(A)\n",
    "    xb,yb = shape(B)\n",
    "   \n",
    "    if ya != xb:\n",
    "        raise ValueError()\n",
    "    \n",
    "    M = [];\n",
    "    for i in range(xa):\n",
    "        M.append([])\n",
    "        for k in range(yb):\n",
    "            s = 0\n",
    "            for j in range(ya):\n",
    "                s += A[i][j] * B[j][k]\n",
    "            M[i].append(s)\n",
    "    return M"
   ]
  },
  {
   "cell_type": "code",
   "execution_count": 10,
   "metadata": {},
   "outputs": [
    {
     "name": "stderr",
     "output_type": "stream",
     "text": [
      ".\n",
      "----------------------------------------------------------------------\n",
      "Ran 1 test in 0.110s\n",
      "\n",
      "OK\n"
     ]
    }
   ],
   "source": [
    "# run following code to test your matxMultiply function\n",
    "%run -i -e test.py LinearRegressionTestCase.test_matxMultiply"
   ]
  },
  {
   "cell_type": "markdown",
   "metadata": {},
   "source": [
    "---\n",
    "\n",
    "# 2 Gaussian Jordan Elimination\n",
    "\n",
    "## 2.1 Compute augmented Matrix \n",
    "\n",
    "$ A = \\begin{bmatrix}\n",
    "    a_{11}    & a_{12} & ... & a_{1n}\\\\\n",
    "    a_{21}    & a_{22} & ... & a_{2n}\\\\\n",
    "    a_{31}    & a_{22} & ... & a_{3n}\\\\\n",
    "    ...    & ... & ... & ...\\\\\n",
    "    a_{n1}    & a_{n2} & ... & a_{nn}\\\\\n",
    "\\end{bmatrix} , b = \\begin{bmatrix}\n",
    "    b_{1}  \\\\\n",
    "    b_{2}  \\\\\n",
    "    b_{3}  \\\\\n",
    "    ...    \\\\\n",
    "    b_{n}  \\\\\n",
    "\\end{bmatrix}$\n",
    "\n",
    "Return $ Ab = \\begin{bmatrix}\n",
    "    a_{11}    & a_{12} & ... & a_{1n} & b_{1}\\\\\n",
    "    a_{21}    & a_{22} & ... & a_{2n} & b_{2}\\\\\n",
    "    a_{31}    & a_{22} & ... & a_{3n} & b_{3}\\\\\n",
    "    ...    & ... & ... & ...& ...\\\\\n",
    "    a_{n1}    & a_{n2} & ... & a_{nn} & b_{n} \\end{bmatrix}$"
   ]
  },
  {
   "cell_type": "code",
   "execution_count": 11,
   "metadata": {
    "collapsed": true
   },
   "outputs": [],
   "source": [
    "# construct the augment matrix of matrix A and column vector b, assuming A and b have same number of rows\n",
    "def augmentMatrix(A, b):\n",
    "    xa,ya = shape(A)\n",
    "    xb,yb = shape(b)\n",
    "    \n",
    "    M = []\n",
    "    \n",
    "    for i in range(xa):\n",
    "        M.append([])\n",
    "        for j in range(ya):\n",
    "            M[i].append(A[i][j])\n",
    "    \n",
    "    for i in range(xb):\n",
    "        for j in range(yb):\n",
    "            M[i].append(b[i][j])\n",
    "    return M"
   ]
  },
  {
   "cell_type": "code",
   "execution_count": 12,
   "metadata": {},
   "outputs": [
    {
     "name": "stderr",
     "output_type": "stream",
     "text": [
      ".\n",
      "----------------------------------------------------------------------\n",
      "Ran 1 test in 0.015s\n",
      "\n",
      "OK\n"
     ]
    }
   ],
   "source": [
    "# run following code to test your augmentMatrix function\n",
    "%run -i -e test.py LinearRegressionTestCase.test_augmentMatrix"
   ]
  },
  {
   "cell_type": "markdown",
   "metadata": {},
   "source": [
    "## 2.2 Basic row operations\n",
    "- exchange two rows\n",
    "- scale a row\n",
    "- add a scaled row to another"
   ]
  },
  {
   "cell_type": "code",
   "execution_count": 13,
   "metadata": {
    "collapsed": true
   },
   "outputs": [],
   "source": [
    "# in-place operation, no return value\n",
    "def swapRows(M, r1, r2):\n",
    "    x = M[r1]\n",
    "    M[r1] = M[r2]\n",
    "    M[r2] = x"
   ]
  },
  {
   "cell_type": "code",
   "execution_count": 14,
   "metadata": {},
   "outputs": [
    {
     "name": "stderr",
     "output_type": "stream",
     "text": [
      ".\n",
      "----------------------------------------------------------------------\n",
      "Ran 1 test in 0.003s\n",
      "\n",
      "OK\n"
     ]
    }
   ],
   "source": [
    "# run following code to test your swapRows function\n",
    "%run -i -e test.py LinearRegressionTestCase.test_swapRows"
   ]
  },
  {
   "cell_type": "code",
   "execution_count": 15,
   "metadata": {},
   "outputs": [],
   "source": [
    "# in-place operation, no return value\n",
    "def scaleRow(M, r, scale):\n",
    "    if scale == 0:\n",
    "        raise ValueError()\n",
    "    M[r] = [v * scale for v in M[r]]"
   ]
  },
  {
   "cell_type": "code",
   "execution_count": 16,
   "metadata": {},
   "outputs": [
    {
     "name": "stderr",
     "output_type": "stream",
     "text": [
      ".\n",
      "----------------------------------------------------------------------\n",
      "Ran 1 test in 0.002s\n",
      "\n",
      "OK\n"
     ]
    }
   ],
   "source": [
    "# run following code to test your scaleRow function\n",
    "%run -i -e test.py LinearRegressionTestCase.test_scaleRow"
   ]
  },
  {
   "cell_type": "code",
   "execution_count": 17,
   "metadata": {
    "collapsed": true
   },
   "outputs": [],
   "source": [
    "# r1 <--- r1 + r2*scale\n",
    "# in-place operation, no return value\n",
    "def addScaledRow(M, r1, r2, scale):\n",
    "    M[r1] = [v + M[r2][i]*scale for i,v in enumerate(M[r1])]"
   ]
  },
  {
   "cell_type": "code",
   "execution_count": 18,
   "metadata": {},
   "outputs": [
    {
     "name": "stderr",
     "output_type": "stream",
     "text": [
      ".\n",
      "----------------------------------------------------------------------\n",
      "Ran 1 test in 0.003s\n",
      "\n",
      "OK\n"
     ]
    }
   ],
   "source": [
    "# run following code to test your addScaledRow function\n",
    "%run -i -e test.py LinearRegressionTestCase.test_addScaledRow"
   ]
  },
  {
   "cell_type": "markdown",
   "metadata": {},
   "source": [
    "## 2.3  Gauss-jordan method to solve Ax = b\n",
    "\n",
    "### Hint：\n",
    "\n",
    "Step 1: Check if A and b have same number of rows\n",
    "Step 2: Construct augmented matrix Ab\n",
    "\n",
    "Step 3: Column by column, transform Ab to reduced row echelon form [wiki link](https://en.wikipedia.org/wiki/Row_echelon_form#Reduced_row_echelon_form)\n",
    "    \n",
    "    for every column of Ab (except the last one)\n",
    "        column c is the current column\n",
    "        Find in column c, at diagonal and under diagonal (row c ~ N) the maximum absolute value\n",
    "        If the maximum absolute value is 0\n",
    "            then A is singular, return None （Prove this proposition in Question 2.4）\n",
    "        else\n",
    "            Apply row operation 1, swap the row of maximum with the row of diagonal element (row c)\n",
    "            Apply row operation 2, scale the diagonal element of column c to 1\n",
    "            Apply row operation 3 mutiple time, eliminate every other element in column c\n",
    "            \n",
    "Step 4: return the last column of Ab\n",
    "\n",
    "### Remark：\n",
    "We don't use the standard algorithm first transfering Ab to row echelon form and then to reduced row echelon form.  Instead, we arrives directly at reduced row echelon form. If you are familiar with the stardard way, try prove to yourself that they are equivalent. "
   ]
  },
  {
   "cell_type": "code",
   "execution_count": 19,
   "metadata": {
    "collapsed": true
   },
   "outputs": [],
   "source": [
    "#implement gaussian jordan method to solve Ax = b\n",
    "\n",
    "\"\"\" Gauss-jordan method to solve x such that Ax = b.\n",
    "        A: square matrix, list of lists\n",
    "        b: column vector, list of lists\n",
    "        decPts: degree of rounding, default value 4\n",
    "        epsilon: threshold for zero, default value 1.0e-16\n",
    "        \n",
    "    return x such that Ax = b, list of lists \n",
    "    return None if A and b have same height\n",
    "    return None if A is (almost) singular\n",
    "\"\"\"\n",
    "\n",
    "\n",
    "\n",
    "def gj_Solve(A, b, decPts=4, epsilon = 1.0e-16):\n",
    "    \n",
    "    xa, ya = shape(A)\n",
    "    xb, yb = shape(b)\n",
    "    \n",
    "    # if columns of A does match with rows of b\n",
    "    if ya != xb:\n",
    "        return None\n",
    "\n",
    "    # creation of augment matrix\n",
    "    Ab = augmentMatrix(A, b)\n",
    "    \n",
    "    # round up the values\n",
    "    matxRound(Ab)\n",
    "    \n",
    "    # each columns in A\n",
    "    for c in range(ya):\n",
    "        \n",
    "        absoluteMaxValue, maxRowIndex = abs(Ab[c][c]), c\n",
    "        \n",
    "        for i in range(c, xa):\n",
    "            if abs(Ab[i][c]) > absoluteMaxValue:\n",
    "                absoluteMaxValue = abs(Ab[i][c])\n",
    "                maxRowIndex = i\n",
    "\n",
    "        if abs(absoluteMaxValue - 0) < epsilon :\n",
    "            return None\n",
    "        \n",
    "        # 1. Swapping\n",
    "        swapRows(Ab, c, maxRowIndex)\n",
    "        \n",
    "        # 2. Scaling\n",
    "        scaleRow(Ab, c, 1/Ab[c][c])\n",
    "        \n",
    "        # 3. Eliminating the values\n",
    "        for j in range(xa):\n",
    "            if j != c:\n",
    "                addScaledRow(Ab, j, c, -Ab[j][c])\n",
    "    \n",
    "    return [[Ab[r][ya]] for r in range(xa)]\n",
    "    "
   ]
  },
  {
   "cell_type": "code",
   "execution_count": 20,
   "metadata": {},
   "outputs": [
    {
     "name": "stderr",
     "output_type": "stream",
     "text": [
      ".\n",
      "----------------------------------------------------------------------\n",
      "Ran 1 test in 5.226s\n",
      "\n",
      "OK\n"
     ]
    }
   ],
   "source": [
    "# run following code to test your addScaledRow function\n",
    "%run -i -e test.py LinearRegressionTestCase.test_gj_Solve"
   ]
  },
  {
   "cell_type": "markdown",
   "metadata": {},
   "source": [
    "## 2.4 Prove the following proposition:\n",
    "\n",
    "**If square matrix A can be divided into four parts: ** \n",
    "\n",
    "$ A = \\begin{bmatrix}\n",
    "    I    & X \\\\\n",
    "    Z    & Y \\\\\n",
    "\\end{bmatrix} $, where I is the identity matrix, Z is all zero and the first column of Y is all zero, \n",
    "\n",
    "**then A is singular.**\n",
    "\n",
    "Hint: There are mutiple ways to prove this problem.  \n",
    "- consider the rank of Y and A\n",
    "- consider the determinate of Y and A \n",
    "- consider certain column is the linear combination of other columns"
   ]
  },
  {
   "cell_type": "markdown",
   "metadata": {},
   "source": [
    "### Proof:\n",
    "Consider size of $A$ is $4n$. That means size of $I$, $X$, $Y$ and $Z$ are $n$. <br><br>\n",
    "\n",
    "$ A = \\begin{bmatrix}\n",
    "  1 & 0 & 0 & ... & 0 & X_{11} & X_{12} & X_{13} & ... & X_{1n}\\\\\n",
    "  0 & 1 & 0 & ... & 0 & X_{21} & X_{22} & X_{23} & ... & X_{2n}\\\\\n",
    "  0 & 0 & 1 & ... & 0 & X_{31} & X_{32} & X_{33} & ... & X_{3n}\\\\\n",
    "  . & . & . & ... & . & .      & .      & .      & ... & .\\\\ \n",
    "  . & . & . & ... &.  & .      & .      & .      & ... & .\\\\\n",
    "  . & . & . & ... &.  & .      & .      & .      & ... & .\\\\\n",
    "  0 & 0 & 0 & ... &1  & X_{n1} & X_{n2} & X_{n3} & ... & X_{nn}\\\\\n",
    "  0 & 0 & 0 & ... &0  & 0      & Y_{12} & Y_{13} & ... & Y_{1n}\\\\\n",
    "  0 & 0 & 0 & ... &0  & 0      & Y_{22} & Y_{23} & ... & Y_{2n}\\\\\n",
    "  0 & 0 & 0 & ... &0  & 0      & Y_{32} & Y_{33} & ... & Y_{3n}\\\\\n",
    "  . & . & . & ... &.  & .      & .      & .      & ... & .\\\\     \n",
    "  . & . & . & ... &.  & .      & .      & .      & ... & .\\\\ \n",
    "  . & . & . & ... &.  & .      & .      & .      & ... & .\\\\\n",
    "  0 & 0 & 0 & ... &0  & 0      & Y_{n2} & Y_{n3} & ... & Y_{nn}\\\\\n",
    "  \\end{bmatrix} $\n",
    "\n",
    "By description of matrix A, It can be verified that A is **Upper Triangular Matrix**.\n",
    "\n",
    "1. It is very well known that determinat of a triangular matrix is product of its diagonal elements.\n",
    "2. It is also known that determinat of a singular matrix is **Zero**.\n",
    "\n",
    "It can be seen that only $I$ and $Y$ contribute to diagnonal elements.\n",
    "\n",
    "$\n",
    "\\begin{vmatrix}A\\end{vmatrix} = \\text{product of diagonal elements of } I \\times \\text{product of diagonal elements of } Y \\\\\n",
    "$\n",
    "\n",
    "$\n",
    "\\begin{align}\n",
    "\\text{product of diagonal elements of } I \n",
    "&= \\overbrace{1 \\times 1 \\times 1 \\times ... }_\\text{n times}\\\\\n",
    "&= 1\n",
    "\\end{align}\n",
    "$\n",
    "\n",
    "$\n",
    "\\begin{align}\n",
    "\\text{product of diagonal elements of } Y\n",
    "&= Y_{00} \\times Y_{11} \\times Y_{22} \\times ... \\times Y_{nn} \\\\\n",
    "&= 0 \\times Y_{11} \\times Y_{22} \\times ... \\times Y_{nn} \\quad \\textit{... by defination first colum of Y is }0.\\ Y_{00} = 0 \\\\\n",
    "&= 0 \\\\\n",
    "\\end{align}\n",
    "$\n",
    "\n",
    "$\n",
    "\\begin{align}\n",
    "\\begin{vmatrix}A\\end{vmatrix} \n",
    "&= \\text{product of diagonal elements of } I \\times \\text{product of diagonal elements of } Y \\\\\n",
    "&= 1 \\times 0 \\\\\n",
    "&= 0\n",
    "\\end{align}\n",
    "$\n",
    "\n",
    "The determinat of A is zero, it means A is **singular matrix**."
   ]
  },
  {
   "cell_type": "markdown",
   "metadata": {},
   "source": [
    "---\n",
    "\n",
    "# 3 Linear Regression: \n",
    "\n",
    "## 3.1 Compute the gradient of loss function with respect to parameters \n",
    "\n",
    "We define loss funtion $E$ as \n",
    "$$\n",
    "E(m, b) = \\sum_{i=1}^{n}{(y_i - mx_i - b)^2}\n",
    "$$\n",
    "and we define vertex $Y$, matrix $X$ and vertex $h$ :\n",
    "$$\n",
    "Y =  \\begin{bmatrix}\n",
    "    y_1 \\\\\n",
    "    y_2 \\\\\n",
    "    ... \\\\\n",
    "    y_n\n",
    "\\end{bmatrix}\n",
    ",\n",
    "X =  \\begin{bmatrix}\n",
    "    x_1 & 1 \\\\\n",
    "    x_2 & 1\\\\\n",
    "    ... & ...\\\\\n",
    "    x_n & 1 \\\\\n",
    "\\end{bmatrix},\n",
    "h =  \\begin{bmatrix}\n",
    "    m \\\\\n",
    "    b \\\\\n",
    "\\end{bmatrix}\n",
    "$$\n",
    "\n",
    "\n",
    "Proves that \n",
    "$$\n",
    "\\frac{\\partial E}{\\partial m} = \\sum_{i=1}^{n}{-2x_i(y_i - mx_i - b)}\n",
    "$$\n",
    "\n",
    "$$\n",
    "\\frac{\\partial E}{\\partial b} = \\sum_{i=1}^{n}{-2(y_i - mx_i - b)}\n",
    "$$\n",
    "\n",
    "$$\n",
    "\\begin{bmatrix}\n",
    "    \\frac{\\partial E}{\\partial m} \\\\\n",
    "    \\frac{\\partial E}{\\partial b} \n",
    "\\end{bmatrix} = 2X^TXh - 2X^TY\n",
    "$$"
   ]
  },
  {
   "cell_type": "markdown",
   "metadata": {},
   "source": [
    "### Proof:\n",
    "$$ \n",
    "\\begin{align}\n",
    "(y_i - mx_i - b)^2 \n",
    "& = y_i^2 + (-mx_i)^2 + (-b)^2 - 2y_imx_i + 2mx_ib -2y_ib \\\\\n",
    "& = y_i^2 + m^2x_i^2 + b^2 - 2y_imx_i + 2mx_ib -2y_ib \\qquad\\qquad (1)\\\\\n",
    "\\end{align}\n",
    "$$"
   ]
  },
  {
   "cell_type": "markdown",
   "metadata": {},
   "source": [
    "Simplfying $\\frac{\\partial E}{\\partial m}$ :\n",
    "$$ \n",
    "\\begin{align}\\\\\n",
    "\\frac{\\partial E}{\\partial m} & = \\frac{\\partial \\sum_{i=1}^{n}{(y_i - mx_i - b)^2}}{\\partial m} \\\\\n",
    "& = \\sum_{i=1}^{n}\\frac{ \\partial{(y_i - mx_i - b)^2}}{\\partial m}\\\\\n",
    "& = \\sum_{i=1}^{n}\\frac{\\partial{(y_i^2 + m^2x_i^2 + b^2 - 2y_imx_i + 2mx_ib -2y_ib)}}{\\partial m} \\qquad using...\\ 1\\\\\n",
    "& = \\sum_{i=1}^{n}(\\frac{\\partial{y_i^2}}{\\partial m} + \\frac{\\partial{m^2x_i^2}}{\\partial m} + \\frac{\\partial{b^2}}{\\partial m} - \\frac{\\partial{2y_imx_i}}{\\partial m}+ \\frac{\\partial{2mx_ib}}{\\partial m} -\\frac{\\partial{2y_ib}}{\\partial m})\\\\\n",
    "& = \\sum_{i=1}^{n} (\\frac{\\partial{m^2x_i^2}}{\\partial m} - \\frac{\\partial{2y_imx_i}}{\\partial m} + \\frac{\\partial{2mx_ib}}{\\partial m} ) \\quad \\ since\\ y,\\ x_i,\\ b \\ are \\ constant \\ with \\  wrt. \\ m \\\\ \n",
    "& = \\sum_{i=1}^{n}(2mx_i^2-2y_ix_i + 2x_ib)\\\\\n",
    "& = \\sum_{i=1}^{n} 2x_i(mx_i - y_i + b) \\\\\n",
    "& = \\sum_{i=1}^{n} -2x_i(y_i-mx_i - b) \\qquad\\qquad (2) \\\\ \n",
    "\\end{align}\\\\\n",
    "$$"
   ]
  },
  {
   "cell_type": "markdown",
   "metadata": {},
   "source": [
    "Simplfying $\\frac{\\partial E}{\\partial b}$ :\n",
    "$$ \n",
    "\\begin{align}\\\\\n",
    "\\frac{\\partial E}{\\partial b} & = \\frac{\\partial \\sum_{i=1}^{n}{(y_i - mx_i - b)^2}}{\\partial b} \\\\\n",
    "& = \\sum_{i=1}^{n}\\frac{ \\partial{(y_i - mx_i - b)^2}}{\\partial b}\\\\\n",
    "& = \\sum_{i=1}^{n}\\frac{\\partial{(y_i^2 + m^2x_i^2 + b^2 - 2y_imx_i + 2mx_ib -2y_ib)}}{\\partial b} \\qquad using...\\ 1\\\\\n",
    "& = \\sum_{i=1}^{n}(\\frac{\\partial{y_i^2}}{\\partial b} + \\frac{\\partial{m^2x_i^2}}{\\partial b} + \\frac{\\partial{b^2}}{\\partial b} - \\frac{\\partial{2y_imx_i}}{\\partial b}+ \\frac{\\partial{2mx_ib}}{\\partial b} -\\frac{\\partial{2y_ib}}{\\partial b})\\\\\n",
    "& = \\sum_{i=1}^{n} (\\frac{\\partial{b^2}}{\\partial b} + \\frac{\\partial{2mx_ib}}{\\partial b} -\\frac{\\partial{2y_ib}}{\\partial b}) \\qquad \\ since\\ y,\\ x_i,\\ m \\ are\\ constant\\ with\\ wrt.\\ b \\\\\n",
    "& = \\sum_{i=1}^{n} (2b + 2mx_i - 2y_i)\\\\ \n",
    "& = \\sum_{i=1}^{n} -2(y_i - mx_i -b) \\qquad\\qquad (3)\n",
    "\\end{align}\\\\\n",
    "$$"
   ]
  },
  {
   "cell_type": "markdown",
   "metadata": {},
   "source": [
    "Simplfying $2X^TXh - 2X^TY$ :\n",
    "$$\n",
    "\\begin{align} \\\\\n",
    "2X^TXh - 2X^TY \n",
    "& = 2X^T(Xh-Y)\\\\\n",
    "& = 2X^T (\\ \\begin{bmatrix}\n",
    "             x_1 & 1 \\\\\n",
    "             x_2 & 1 \\\\\n",
    "             ... & .. \\\\\n",
    "             x_n & 1\n",
    "             \\end{bmatrix} \n",
    "             \\begin{bmatrix}\n",
    "             m\\\\\n",
    "             b\n",
    "             \\end{bmatrix} - \n",
    "             \\begin{bmatrix}\n",
    "              y_1 \\\\\n",
    "              y_2 \\\\\n",
    "              ... \\\\\n",
    "              y_n\n",
    "            \\end{bmatrix} ) \\\\\n",
    "& = 2X^T (\\ \\begin{bmatrix}\n",
    "            x_1m+b \\\\\n",
    "            x_2m+b  \\\\\n",
    "            ... \\\\\n",
    "            x_nm+b \n",
    "            \\end{bmatrix} - \n",
    "            \\begin{bmatrix}\n",
    "            y_1 \\\\\n",
    "            y_2 \\\\\n",
    "            ... \\\\\n",
    "            y_n\n",
    "            \\end{bmatrix}\\ ) \\\\\n",
    "& = 2X^T \\begin{bmatrix} \n",
    "            x_1m+b-y_1 \\\\\n",
    "            x_2m+b-y_2 \\\\\n",
    "            ... \\\\\n",
    "            x_nm+b-y_3 \\\\\n",
    "            \\end{bmatrix} \\\\\n",
    "& = 2 \\begin{bmatrix}\n",
    "       x_1 & x_2 &... &x_n \\\\\n",
    "       1   & 1   &... & 1 \\\\\n",
    "      \\end{bmatrix}\n",
    "      \\begin{bmatrix} \n",
    "        x_1m+b-y_1 \\\\\n",
    "        x_2m+b-y_2 \\\\\n",
    "        ... \\\\\n",
    "        x_nm+b-y_3 \\\\\n",
    "       \\end{bmatrix} \\\\\n",
    "& = 2 \\begin{bmatrix}\n",
    "      x_1 \\times (x_1m+b-y_1) +  x_2\\times (x_2m+b-y_2) + ... + x_n \\times (x_nm+b-y_n) \\\\\n",
    "      (x_1m+b-y_1) + (x_2m+b-y_2) + ... + (x_nm+b-y_n)\n",
    "      \\end{bmatrix} \\\\\n",
    "& = 2 \\begin{bmatrix}\n",
    "      \\sum_{i=1}^{n} x_i(x_im+b-y_i) \\\\\n",
    "      \\sum_{i=1}^{n} (x_im+b-y_i)\n",
    "      \\end{bmatrix} \\\\\n",
    "& = \\begin{bmatrix}\n",
    "       \\sum_{i=1}^{n} -2x_i(y_i-mx_i-b) \\\\\n",
    "       \\sum_{i=1}^{n} -2(y_i-mx_i-b) \\\\\n",
    "    \\end{bmatrix} \\qquad \\qquad (4)\n",
    "\\end{align} \\\\\n",
    "$$"
   ]
  },
  {
   "cell_type": "markdown",
   "metadata": {},
   "source": [
    "Combining 2, 3, 4 ...\n",
    "$$\n",
    "\\begin{bmatrix}\n",
    "    \\frac{\\partial E}{\\partial m} \\\\\n",
    "    \\frac{\\partial E}{\\partial b} \n",
    "\\end{bmatrix} = 2X^TXh - 2X^TY \\\\\n",
    "$$\n",
    "hence *proved*.\n",
    "\n"
   ]
  },
  {
   "cell_type": "markdown",
   "metadata": {},
   "source": [
    "## 3.2  Linear Regression\n",
    "### Solve equation $X^TXh = X^TY $ to compute the best parameter for linear regression."
   ]
  },
  {
   "cell_type": "code",
   "execution_count": 21,
   "metadata": {},
   "outputs": [],
   "source": [
    "# implement linear regression \n",
    "'''\n",
    "points: list of (x,y) tuple\n",
    "return m and b\n",
    "'''\n",
    "def linearRegression(points):\n",
    "    \n",
    "    X = [[x, 1] for x,y in points]\n",
    "    Y = [[y] for x,y in points]\n",
    "    \n",
    "    TX_Y = matxMultiply(transpose(X),Y)\n",
    "    TX_X = matxMultiply(transpose(X),X)\n",
    "    \n",
    "    h = gj_Solve(TX_X, TX_Y)\n",
    "    \n",
    "    return h[0][0], h[1][0]"
   ]
  },
  {
   "cell_type": "markdown",
   "metadata": {},
   "source": [
    "## 3.3 Test your linear regression implementation"
   ]
  },
  {
   "cell_type": "code",
   "execution_count": 22,
   "metadata": {},
   "outputs": [
    {
     "data": {
      "text/plain": [
       "[<matplotlib.lines.Line2D at 0x10f8e97d0>]"
      ]
     },
     "execution_count": 22,
     "metadata": {},
     "output_type": "execute_result"
    },
    {
     "data": {
      "image/png": "[encoded data removed]",
      "text/plain": [
       "<matplotlib.figure.Figure at 0x107238190>"
      ]
     },
     "metadata": {},
     "output_type": "display_data"
    }
   ],
   "source": [
    "%matplotlib inline\n",
    "import random\n",
    "import matplotlib.pyplot as plt\n",
    "\n",
    "\n",
    "# point generation\n",
    "X = []\n",
    "Y = []\n",
    "for i in range(0,200, 5):\n",
    "    X.append(i + random.gauss(i, 11))\n",
    "    Y.append((i*3+5) + random.gauss(i, 11))\n",
    "\n",
    "\n",
    "# Compute m and b and compare with ground truth\n",
    "m,b = linearRegression(zip(X,Y))\n",
    "\n",
    "plt.title(\"random generated values with variance 11\")\n",
    "plt.xlabel(\"X\")\n",
    "plt.ylabel(\"Y\")\n",
    "\n",
    "# plot of origninal point\n",
    "plt.scatter(X,Y)\n",
    "\n",
    "# plot of regression\n",
    "X = range(400)\n",
    "Y = [ m*x + b for x in X]\n",
    "\n",
    "plt.plot(X,Y, c='r')"
   ]
  }
 ],
 "metadata": {
  "anaconda-cloud": {},
  "celltoolbar": "Raw Cell Format",
  "kernelspec": {
   "display_name": "Python 2",
   "language": "python",
   "name": "python2"
  },
  "language_info": {
   "codemirror_mode": {
    "name": "ipython",
    "version": 2
   },
   "file_extension": ".py",
   "mimetype": "text/x-python",
   "name": "python",
   "nbconvert_exporter": "python",
   "pygments_lexer": "ipython2",
   "version": "2.7.13"
  }
 },
 "nbformat": 4,
 "nbformat_minor": 2
}
